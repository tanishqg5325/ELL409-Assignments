{
 "cells": [
  {
   "cell_type": "code",
   "execution_count": 1,
   "metadata": {},
   "outputs": [],
   "source": [
    "import numpy as np\n",
    "import csv\n",
    "\n",
    "from Classifiers.Bayes_Gaussian import *\n",
    "from Classifiers.Bayes_Parzen import *\n",
    "from Classifiers.k_means_clustering import *\n",
    "from Classifiers.k_nearest_neighbour import *\n",
    "from Classifiers.logistic import *\n",
    "from Classifiers.Naive_Bayes import *\n",
    "from Classifiers.solver import *\n",
    "from Classifiers.compute_performance import *"
   ]
  },
  {
   "cell_type": "code",
   "execution_count": 2,
   "metadata": {},
   "outputs": [
    {
     "name": "stdout",
     "output_type": "stream",
     "text": [
      "('X_train: ', (469, 30))\n",
      "('y_train: ', (469,))\n",
      "('X_test: ', (100, 30))\n",
      "('y_test: ', (100,))\n",
      "30 2\n"
     ]
    }
   ],
   "source": [
    "data = np.array(list(csv.reader(open(\"DataSets/Breast Cancer/wdbc.csv\"), delimiter=',')))\n",
    "N = data.shape[0]\n",
    "X, y = data[:, 2:].astype(np.float), data[:, 1]\n",
    "y[y == 'M'] = \"1\"\n",
    "y[y == 'B'] = \"0\"\n",
    "y = y.astype(np.int)\n",
    "data = {}\n",
    "random_perm = np.random.permutation(N)\n",
    "data['X_train'] = X[random_perm[:469]]\n",
    "data['y_train'] = y[random_perm[:469]]\n",
    "data['X_test'] = X[random_perm[469:]]\n",
    "data['y_test'] = y[random_perm[469:]]\n",
    "for k, v in list(data.items()):\n",
    "    print(('%s: ' % k, v.shape))\n",
    "D, num_classes = data['X_train'].shape[1], np.max(y) + 1\n",
    "print(D, num_classes)"
   ]
  },
  {
   "cell_type": "code",
   "execution_count": 3,
   "metadata": {},
   "outputs": [
    {
     "name": "stdout",
     "output_type": "stream",
     "text": [
      "('accuracy: ', 0.92)\n",
      "('precision: ', array([0.91044776, 0.93939394]))\n",
      "('recall: ', array([0.96825397, 0.83783784]))\n",
      "('F1: ', 0.9120879120879122)\n"
     ]
    }
   ],
   "source": [
    "naive_bayes = Naive_Bayes(D, num_classes)\n",
    "naive_bayes.train(data['X_train'], data['y_train'])\n",
    "y_pred1 = naive_bayes.test(data['X_test'])\n",
    "performance = compute_performance(y_pred1, data['y_test'], num_classes)\n",
    "for k, v in list(performance.items()):\n",
    "    print(('%s: ' % k, v))"
   ]
  },
  {
   "cell_type": "code",
   "execution_count": 4,
   "metadata": {},
   "outputs": [
    {
     "name": "stdout",
     "output_type": "stream",
     "text": [
      "('accuracy: ', 0.95)\n",
      "('precision: ', array([0.953125  , 0.94444444]))\n",
      "('recall: ', array([0.96825397, 0.91891892]))\n",
      "('F1: ', 0.9460683852874554)\n"
     ]
    }
   ],
   "source": [
    "bayes = Bayes_Gaussian(D, num_classes)\n",
    "bayes.train(data['X_train'], data['y_train'])\n",
    "y_pred2 = bayes.test(data['X_test'])\n",
    "performance = compute_performance(y_pred2, data['y_test'], num_classes)\n",
    "for k, v in list(performance.items()):\n",
    "    print(('%s: ' % k, v))"
   ]
  },
  {
   "cell_type": "code",
   "execution_count": 5,
   "metadata": {},
   "outputs": [
    {
     "name": "stdout",
     "output_type": "stream",
     "text": [
      "('accuracy: ', 0.92)\n",
      "('precision: ', array([0.91044776, 0.93939394]))\n",
      "('recall: ', array([0.96825397, 0.83783784]))\n",
      "('F1: ', 0.9120879120879122)\n"
     ]
    }
   ],
   "source": [
    "bayes = Bayes_Parzen(num_classes)\n",
    "bayes.train(data['X_train'], data['y_train'])\n",
    "y_pred2 = bayes.test(data['X_test'], h=10.0)\n",
    "performance = compute_performance(y_pred2, data['y_test'], num_classes)\n",
    "for k, v in list(performance.items()):\n",
    "    print(('%s: ' % k, v))"
   ]
  },
  {
   "cell_type": "code",
   "execution_count": 6,
   "metadata": {},
   "outputs": [],
   "source": [
    "data['X_train'] = X[random_perm[:400]]\n",
    "data['y_train'] = y[random_perm[:400]]\n",
    "data['X_val'] = X[random_perm[400:469]]\n",
    "data['y_val'] = y[random_perm[400:469]]"
   ]
  },
  {
   "cell_type": "code",
   "execution_count": 7,
   "metadata": {},
   "outputs": [
    {
     "name": "stdout",
     "output_type": "stream",
     "text": [
      "('accuracy: ', 0.96)\n",
      "('precision: ', array([0.96825397, 0.94594595]))\n",
      "('recall: ', array([0.96825397, 0.94594595]))\n",
      "('F1: ', 0.9570999570999571)\n"
     ]
    }
   ],
   "source": [
    "knn = KNearestNeighbor()\n",
    "knn.train(data['X_train'], data['y_train'])\n",
    "k_choices = [3, 5, 7, 9, 11]\n",
    "best_k, best_f1 = 1, 0.0\n",
    "for k in k_choices:\n",
    "    y_pred3 = knn.test(data['X_val'], k=k)\n",
    "    per = compute_performance(y_pred3, data['y_val'], num_classes)\n",
    "    if per['F1'] > best_f1:\n",
    "        best_k = k\n",
    "        best_f1 = per['F1']\n",
    "y_pred3 = knn.test(data['X_test'], k=best_k)\n",
    "performance = compute_performance(y_pred3, data['y_test'], num_classes)\n",
    "for k, v in list(performance.items()):\n",
    "    print(('%s: ' % k, v))"
   ]
  },
  {
   "cell_type": "code",
   "execution_count": 8,
   "metadata": {},
   "outputs": [
    {
     "name": "stdout",
     "output_type": "stream",
     "text": [
      "('accuracy: ', 0.9)\n",
      "('precision: ', array([0.87323944, 0.96551724]))\n",
      "('recall: ', array([0.98412698, 0.75675676]))\n",
      "('F1: ', 0.8869289914066034)\n"
     ]
    }
   ],
   "source": [
    "K_choices = [2, 3, 5, 7, 9, 11]\n",
    "best_k_means, best_f1 = None, 0.0\n",
    "for K in K_choices:\n",
    "    k_means = K_means(D, K=K)\n",
    "    k_means.train(data['X_train'], data['y_train'], num_iters=20)\n",
    "    y_pred4 = k_means.test(data['X_val'])\n",
    "    per = compute_performance(y_pred4, data['y_val'], num_classes)\n",
    "    if per['F1'] > best_f1:\n",
    "        best_k_means = k_means\n",
    "        best_f1 = per['F1']\n",
    "y_pred4 = best_k_means.test(data['X_test'])\n",
    "performance = compute_performance(y_pred4, data['y_test'], num_classes)\n",
    "for k, v in list(performance.items()):\n",
    "    print(('%s: ' % k, v))"
   ]
  },
  {
   "cell_type": "code",
   "execution_count": 9,
   "metadata": {},
   "outputs": [
    {
     "name": "stdout",
     "output_type": "stream",
     "text": [
      "('accuracy: ', 0.94)\n",
      "('precision: ', array([0.92537313, 0.96969697]))\n",
      "('recall: ', array([0.98412698, 0.86486486]))\n",
      "('F1: ', 0.9340659340659341)\n"
     ]
    }
   ],
   "source": [
    "initial_weights = np.array(list(csv.reader(open(\"DataSets/Breast Cancer/logistic_weights.csv\"), delimiter=','))).astype(np.float)\n",
    "initial_b = np.array(list(csv.reader(open(\"DataSets/Breast Cancer/logistic_b.csv\"), delimiter=','))).astype(np.float)\n",
    "logistic = Logistic(input_dim=D, num_classes=num_classes, initial_weights=initial_weights, initial_b=initial_b)\n",
    "solver = Solver(logistic, data, lr=1e-5, num_epochs=100, verbose=0)\n",
    "solver.train()\n",
    "y_pred5 = logistic.test(data['X_test'])\n",
    "performance = compute_performance(y_pred5, data['y_test'], num_classes)\n",
    "for k, v in list(performance.items()):\n",
    "    print(('%s: ' % k, v))"
   ]
  }
 ],
 "metadata": {
  "kernelspec": {
   "display_name": "Python 3",
   "language": "python",
   "name": "python3"
  },
  "language_info": {
   "codemirror_mode": {
    "name": "ipython",
    "version": 3
   },
   "file_extension": ".py",
   "mimetype": "text/x-python",
   "name": "python",
   "nbconvert_exporter": "python",
   "pygments_lexer": "ipython3",
   "version": "3.6.5"
  }
 },
 "nbformat": 4,
 "nbformat_minor": 2
}
