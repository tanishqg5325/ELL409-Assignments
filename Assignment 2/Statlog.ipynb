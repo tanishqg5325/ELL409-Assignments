{
 "cells": [
  {
   "cell_type": "code",
   "execution_count": 1,
   "metadata": {},
   "outputs": [],
   "source": [
    "import numpy as np\n",
    "import csv\n",
    "\n",
    "from Classifiers.Bayes_Gaussian import *\n",
    "from Classifiers.Bayes_Parzen import *\n",
    "from Classifiers.k_means_clustering import *\n",
    "from Classifiers.k_nearest_neighbour import *\n",
    "from Classifiers.logistic import *\n",
    "from Classifiers.Naive_Bayes import *\n",
    "from Classifiers.solver import *\n",
    "from Classifiers.compute_performance import *"
   ]
  },
  {
   "cell_type": "code",
   "execution_count": 2,
   "metadata": {},
   "outputs": [
    {
     "name": "stdout",
     "output_type": "stream",
     "text": [
      "('X_train: ', (220, 13))\n",
      "('y_train: ', (220,))\n",
      "('X_test: ', (50, 13))\n",
      "('y_test: ', (50,))\n",
      "13 2\n"
     ]
    }
   ],
   "source": [
    "data = np.array(list(csv.reader(open(\"DataSets/Statlog/heart.csv\"), delimiter=',')))\n",
    "N = data.shape[0]\n",
    "X, y = data[:, :-1].astype(np.float), data[:, -1].astype(np.int)\n",
    "for i in range(X.shape[1]):\n",
    "    X[:, i] = (X[:, i] - np.min(X[:, i])) / (np.max(X[:, i]) - np.min(X[:, i]))\n",
    "y = y - 1\n",
    "data = {}\n",
    "random_perm = np.random.permutation(N)\n",
    "data['X_train'] = X[random_perm[:220]]\n",
    "data['y_train'] = y[random_perm[:220]]\n",
    "data['X_test'] = X[random_perm[220:]]\n",
    "data['y_test'] = y[random_perm[220:]]\n",
    "for k, v in list(data.items()):\n",
    "    print(('%s: ' % k, v.shape))\n",
    "D, num_classes = data['X_train'].shape[1], np.max(y) + 1\n",
    "print(D, num_classes)"
   ]
  },
  {
   "cell_type": "code",
   "execution_count": 3,
   "metadata": {},
   "outputs": [
    {
     "name": "stdout",
     "output_type": "stream",
     "text": [
      "('accuracy: ', 0.94)\n",
      "('precision: ', array([0.96875   , 0.88888889]))\n",
      "('recall: ', array([0.93939394, 0.94117647]))\n",
      "('F1: ', 0.9340659340659341)\n"
     ]
    }
   ],
   "source": [
    "naive_bayes = Naive_Bayes(D, num_classes)\n",
    "naive_bayes.train(data['X_train'], data['y_train'])\n",
    "y_pred1 = naive_bayes.test(data['X_test'])\n",
    "performance = compute_performance(y_pred1, data['y_test'], num_classes)\n",
    "for k, v in list(performance.items()):\n",
    "    print(('%s: ' % k, v))"
   ]
  },
  {
   "cell_type": "code",
   "execution_count": 4,
   "metadata": {},
   "outputs": [
    {
     "name": "stdout",
     "output_type": "stream",
     "text": [
      "('accuracy: ', 0.86)\n",
      "('precision: ', array([0.88235294, 0.8125    ]))\n",
      "('recall: ', array([0.90909091, 0.76470588]))\n",
      "('F1: ', 0.8417005879692447)\n"
     ]
    }
   ],
   "source": [
    "bayes = Bayes_Gaussian(D, num_classes)\n",
    "bayes.train(data['X_train'], data['y_train'])\n",
    "y_pred2 = bayes.test(data['X_test'])\n",
    "performance = compute_performance(y_pred2, data['y_test'], num_classes)\n",
    "for k, v in list(performance.items()):\n",
    "    print(('%s: ' % k, v))"
   ]
  },
  {
   "cell_type": "code",
   "execution_count": 5,
   "metadata": {},
   "outputs": [
    {
     "name": "stdout",
     "output_type": "stream",
     "text": [
      "('accuracy: ', 0.88)\n",
      "('precision: ', array([0.86486486, 0.92307692]))\n",
      "('recall: ', array([0.96969697, 0.70588235]))\n",
      "('F1: ', 0.8571428571428572)\n"
     ]
    }
   ],
   "source": [
    "bayes = Bayes_Parzen(num_classes)\n",
    "bayes.train(data['X_train'], data['y_train'])\n",
    "y_pred2 = bayes.test(data['X_test'], h=0.8)\n",
    "performance = compute_performance(y_pred2, data['y_test'], num_classes)\n",
    "for k, v in list(performance.items()):\n",
    "    print(('%s: ' % k, v))"
   ]
  },
  {
   "cell_type": "code",
   "execution_count": 6,
   "metadata": {},
   "outputs": [],
   "source": [
    "data['X_train'] = X[random_perm[:180]]\n",
    "data['y_train'] = y[random_perm[:180]]\n",
    "data['X_val'] = X[random_perm[180:220]]\n",
    "data['y_val'] = y[random_perm[180:220]]"
   ]
  },
  {
   "cell_type": "code",
   "execution_count": 7,
   "metadata": {},
   "outputs": [
    {
     "name": "stdout",
     "output_type": "stream",
     "text": [
      "('accuracy: ', 0.86)\n",
      "('precision: ', array([0.86111111, 0.85714286]))\n",
      "('recall: ', array([0.93939394, 0.70588235]))\n",
      "('F1: ', 0.8363721365123891)\n"
     ]
    }
   ],
   "source": [
    "knn = KNearestNeighbor()\n",
    "knn.train(data['X_train'], data['y_train'])\n",
    "k_choices = [3, 5, 7, 9, 11]\n",
    "best_k, best_f1 = 1, 0.0\n",
    "for k in k_choices:\n",
    "    y_pred3 = knn.test(data['X_val'], k=k)\n",
    "    per = compute_performance(y_pred3, data['y_val'], num_classes)\n",
    "    if per['F1'] > best_f1:\n",
    "        best_k = k\n",
    "        best_f1 = per['F1']\n",
    "y_pred3 = knn.test(data['X_test'], k=best_k)\n",
    "performance = compute_performance(y_pred3, data['y_test'], num_classes)\n",
    "for k, v in list(performance.items()):\n",
    "    print(('%s: ' % k, v))"
   ]
  },
  {
   "cell_type": "code",
   "execution_count": 8,
   "metadata": {},
   "outputs": [
    {
     "name": "stdout",
     "output_type": "stream",
     "text": [
      "('accuracy: ', 0.74)\n",
      "('precision: ', array([0.79411765, 0.625     ]))\n",
      "('recall: ', array([0.81818182, 0.58823529]))\n",
      "('F1: ', 0.7060153776571687)\n"
     ]
    }
   ],
   "source": [
    "K_choices = [2, 3, 5, 6, 7, 8, 9]\n",
    "best_k_means, best_f1 = None, 0.0\n",
    "for K in K_choices:\n",
    "    k_means = K_means(D, K=K)\n",
    "    k_means.train(data['X_train'], data['y_train'], num_iters=20)\n",
    "    y_pred4 = k_means.test(data['X_val'])\n",
    "    per = compute_performance(y_pred4, data['y_val'], num_classes)\n",
    "    if per['F1'] > best_f1:\n",
    "        best_k_means = k_means\n",
    "        best_f1 = per['F1']\n",
    "y_pred4 = best_k_means.test(data['X_test'])\n",
    "performance = compute_performance(y_pred4, data['y_test'], num_classes)\n",
    "for k, v in list(performance.items()):\n",
    "    print(('%s: ' % k, v))"
   ]
  },
  {
   "cell_type": "code",
   "execution_count": 9,
   "metadata": {},
   "outputs": [
    {
     "name": "stdout",
     "output_type": "stream",
     "text": [
      "('accuracy: ', 0.84)\n",
      "('precision: ', array([0.87878788, 0.76470588]))\n",
      "('recall: ', array([0.87878788, 0.76470588]))\n",
      "('F1: ', 0.82174688057041)\n"
     ]
    }
   ],
   "source": [
    "logistic = Logistic(input_dim=D, num_classes=num_classes, weight_scale=1e-1)\n",
    "solver = Solver(logistic, data, lr=1e-1, num_epochs=200, verbose=0)\n",
    "solver.train()\n",
    "y_pred5 = logistic.test(data['X_test'])\n",
    "performance = compute_performance(y_pred5, data['y_test'], num_classes)\n",
    "for k, v in list(performance.items()):\n",
    "    print(('%s: ' % k, v))"
   ]
  }
 ],
 "metadata": {
  "kernelspec": {
   "display_name": "Python 3",
   "language": "python",
   "name": "python3"
  },
  "language_info": {
   "codemirror_mode": {
    "name": "ipython",
    "version": 3
   },
   "file_extension": ".py",
   "mimetype": "text/x-python",
   "name": "python",
   "nbconvert_exporter": "python",
   "pygments_lexer": "ipython3",
   "version": "3.6.5"
  }
 },
 "nbformat": 4,
 "nbformat_minor": 2
}
