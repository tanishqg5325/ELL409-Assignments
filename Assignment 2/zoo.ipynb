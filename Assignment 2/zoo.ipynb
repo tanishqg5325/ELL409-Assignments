{
 "cells": [
  {
   "cell_type": "code",
   "execution_count": 1,
   "metadata": {},
   "outputs": [],
   "source": [
    "import numpy as np\n",
    "import csv\n",
    "\n",
    "from Classifiers.Bayes_Parzen import *\n",
    "from Classifiers.k_means_clustering import *\n",
    "from Classifiers.k_nearest_neighbour import *\n",
    "from Classifiers.logistic import *\n",
    "from Classifiers.Naive_Bayes_discrete import *\n",
    "from Classifiers.solver import *\n",
    "from Classifiers.compute_performance import *"
   ]
  },
  {
   "cell_type": "code",
   "execution_count": 2,
   "metadata": {},
   "outputs": [
    {
     "name": "stdout",
     "output_type": "stream",
     "text": [
      "('X_train: ', (80, 16))\n",
      "('y_train: ', (80,))\n",
      "('X_test: ', (21, 16))\n",
      "('y_test: ', (21,))\n",
      "16 7\n"
     ]
    }
   ],
   "source": [
    "data = np.array(list(csv.reader(open(\"DataSets/Zoo/zoo.csv\"), delimiter=',')))\n",
    "N = data.shape[0]\n",
    "X, y = data[:, 1:-1].astype(np.int), data[:, -1].astype(np.int)\n",
    "y = y - 1\n",
    "data = {}\n",
    "random_perm = np.random.permutation(N)\n",
    "data['X_train'] = X[random_perm[:80]]\n",
    "data['y_train'] = y[random_perm[:80]]\n",
    "data['X_test'] = X[random_perm[80:]]\n",
    "data['y_test'] = y[random_perm[80:]]\n",
    "for k, v in list(data.items()):\n",
    "    print(('%s: ' % k, v.shape))\n",
    "D, num_classes = data['X_train'].shape[1], np.max(y) + 1\n",
    "print(D, num_classes)"
   ]
  },
  {
   "cell_type": "code",
   "execution_count": 3,
   "metadata": {},
   "outputs": [
    {
     "name": "stdout",
     "output_type": "stream",
     "text": [
      "('accuracy: ', 0.8571428571428571)\n",
      "('precision: ', array([0.8, 1. , 1. , 1. , 1. , 1. , 1. ]))\n",
      "('recall: ', array([1.        , 1.        , 1.        , 0.5       , 1.        ,\n",
      "       0.66666667, 0.5       ]))\n",
      "('F1: ', 0.8603174603174603)\n"
     ]
    }
   ],
   "source": [
    "naive_bayes = Naive_Bayes(D, num_classes)\n",
    "naive_bayes.train(data['X_train'], data['y_train'])\n",
    "y_pred1 = naive_bayes.test(data['X_test'])\n",
    "performance = compute_performance(y_pred1, data['y_test'], num_classes)\n",
    "for k, v in list(performance.items()):\n",
    "    print(('%s: ' % k, v))"
   ]
  },
  {
   "cell_type": "code",
   "execution_count": 4,
   "metadata": {},
   "outputs": [
    {
     "name": "stdout",
     "output_type": "stream",
     "text": [
      "('accuracy: ', 1.0)\n",
      "('precision: ', array([1., 1., 1., 1., 1., 1., 1.]))\n",
      "('recall: ', array([1., 1., 1., 1., 1., 1., 1.]))\n",
      "('F1: ', 1.0)\n"
     ]
    }
   ],
   "source": [
    "bayes = Bayes_Parzen(num_classes)\n",
    "bayes.train(data['X_train'], data['y_train'])\n",
    "y_pred2 = bayes.test(data['X_test'], h=0.1)\n",
    "performance = compute_performance(y_pred2, data['y_test'], num_classes)\n",
    "for k, v in list(performance.items()):\n",
    "    print(('%s: ' % k, v))"
   ]
  },
  {
   "cell_type": "code",
   "execution_count": 5,
   "metadata": {},
   "outputs": [],
   "source": [
    "data['X_train'] = X[random_perm[:60]]\n",
    "data['y_train'] = y[random_perm[:60]]\n",
    "data['X_val'] = X[random_perm[60:80]]\n",
    "data['y_val'] = y[random_perm[60:80]]"
   ]
  },
  {
   "cell_type": "code",
   "execution_count": 6,
   "metadata": {},
   "outputs": [
    {
     "name": "stdout",
     "output_type": "stream",
     "text": [
      "('accuracy: ', 0.9523809523809523)\n",
      "('precision: ', array([1.        , 0.66666667, 1.        , 1.        , 1.        ,\n",
      "       1.        , 1.        ]))\n",
      "('recall: ', array([0.91666667, 1.        , 1.        , 1.        , 1.        ,\n",
      "       1.        , 1.        ]))\n",
      "('F1: ', 0.9652173913043478)\n"
     ]
    }
   ],
   "source": [
    "knn = KNearestNeighbor()\n",
    "knn.train(data['X_train'], data['y_train'])\n",
    "k_choices = [3, 5, 7, 9, 11]\n",
    "best_k, best_f1 = 1, 0.0\n",
    "for k in k_choices:\n",
    "    y_pred3 = knn.test(data['X_val'], k=k)\n",
    "    per = compute_performance(y_pred3, data['y_val'], num_classes)\n",
    "    if per['F1'] > best_f1:\n",
    "        best_k = k\n",
    "        best_f1 = per['F1']\n",
    "y_pred3 = knn.test(data['X_test'], k=best_k)\n",
    "performance = compute_performance(y_pred3, data['y_test'], num_classes)\n",
    "for k, v in list(performance.items()):\n",
    "    print(('%s: ' % k, v))"
   ]
  },
  {
   "cell_type": "code",
   "execution_count": 7,
   "metadata": {},
   "outputs": [
    {
     "name": "stdout",
     "output_type": "stream",
     "text": [
      "('accuracy: ', 0.9047619047619048)\n",
      "('precision: ', array([1.        , 0.66666667, 1.        , 0.66666667, 1.        ,\n",
      "       1.        , 1.        ]))\n",
      "('recall: ', array([0.91666667, 1.        , 1.        , 1.        , 1.        ,\n",
      "       1.        , 0.5       ]))\n",
      "('F1: ', 0.8890269151138718)\n"
     ]
    }
   ],
   "source": [
    "K_choices = [6, 7, 8, 9, 10, 11]\n",
    "best_k_means, best_f1 = None, 0.0\n",
    "for K in K_choices:\n",
    "    k_means = K_means(D, K=K)\n",
    "    k_means.train(data['X_train'], data['y_train'], num_iters=20)\n",
    "    y_pred4 = k_means.test(data['X_val'])\n",
    "    per = compute_performance(y_pred4, data['y_val'], num_classes)\n",
    "    if per['F1'] > best_f1:\n",
    "        best_k_means = k_means\n",
    "        best_f1 = per['F1']\n",
    "y_pred4 = best_k_means.test(data['X_test'])\n",
    "performance = compute_performance(y_pred4, data['y_test'], num_classes)\n",
    "for k, v in list(performance.items()):\n",
    "    print(('%s: ' % k, v))"
   ]
  },
  {
   "cell_type": "code",
   "execution_count": 8,
   "metadata": {},
   "outputs": [
    {
     "name": "stdout",
     "output_type": "stream",
     "text": [
      "('accuracy: ', 0.9523809523809523)\n",
      "('precision: ', array([1.        , 1.        , 1.        , 1.        , 1.        ,\n",
      "       1.        , 0.66666667]))\n",
      "('recall: ', array([1.        , 1.        , 1.        , 1.        , 1.        ,\n",
      "       0.66666667, 1.        ]))\n",
      "('F1: ', 0.9428571428571428)\n"
     ]
    }
   ],
   "source": [
    "logistic = Logistic(input_dim=D, num_classes=num_classes, weight_scale=1e-1)\n",
    "solver = Solver(logistic, data, lr=1.0, num_epochs=100, verbose=0)\n",
    "solver.train()\n",
    "y_pred5 = logistic.test(data['X_test'])\n",
    "performance = compute_performance(y_pred5, data['y_test'], num_classes)\n",
    "for k, v in list(performance.items()):\n",
    "    print(('%s: ' % k, v))"
   ]
  }
 ],
 "metadata": {
  "kernelspec": {
   "display_name": "Python 3",
   "language": "python",
   "name": "python3"
  },
  "language_info": {
   "codemirror_mode": {
    "name": "ipython",
    "version": 3
   },
   "file_extension": ".py",
   "mimetype": "text/x-python",
   "name": "python",
   "nbconvert_exporter": "python",
   "pygments_lexer": "ipython3",
   "version": "3.6.5"
  }
 },
 "nbformat": 4,
 "nbformat_minor": 2
}
